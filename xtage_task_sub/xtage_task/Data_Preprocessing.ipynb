{
 "cells": [
  {
   "cell_type": "code",
   "execution_count": 1,
   "id": "4a7ee7e1-ac20-4906-9af5-f9e8fa4d5195",
   "metadata": {},
   "outputs": [],
   "source": [
    "import sys\n",
    "sys.path.append('/path/to/utils')"
   ]
  },
  {
   "cell_type": "code",
   "execution_count": 2,
   "id": "c0902340-0025-459a-9943-08095dc27f95",
   "metadata": {},
   "outputs": [],
   "source": [
    "import pandas as pd\n",
    "from zipfile import ZipFile\n",
    "import os\n",
    "import requests\n",
    "import numpy as np\n",
    "from data_ingestion import DataIngestion\n",
    "from datetime import datetime\n",
    "from data_preprocessing import *\n",
    "import psycopg2"
   ]
  },
  {
   "cell_type": "code",
   "execution_count": 3,
   "id": "243719b9-e79f-4a42-a219-d7cc38e95189",
   "metadata": {},
   "outputs": [],
   "source": [
    "# Database credentials\n",
    "db_credentials = {\n",
    "    'host': 'rds-endpoint',\n",
    "    'port': 5432,\n",
    "    'database': 'xtage_std',\n",
    "    'user': 'postgres',\n",
    "    'password': '******'\n",
    "}\n"
   ]
  },
  {
   "cell_type": "code",
   "execution_count": 4,
   "id": "9c933828-47ad-48ef-99d6-d3f6ea51d77b",
   "metadata": {},
   "outputs": [
    {
     "name": "stdout",
     "output_type": "stream",
     "text": [
      "Database engine created successfully\n"
     ]
    }
   ],
   "source": [
    "# Initialize DataIngestion class\n",
    "xtp_con = DataIngestion(db_credentials)"
   ]
  },
  {
   "cell_type": "code",
   "execution_count": 5,
   "id": "8b839079-66d9-49f0-9df7-3912e4adeda4",
   "metadata": {},
   "outputs": [],
   "source": [
    "customers_prem = xtp_con.fetch_query_results('select * from customers')\n",
    "products_prem = xtp_con.fetch_query_results('select * from products')\n",
    "transactions_prem = xtp_con.fetch_query_results('select * from transactions')\n",
    "sales_data_prem = xtp_con.fetch_query_results('select * from sales_data')\n",
    "exchange_rates_prem = xtp_con.fetch_query_results('select * from exchange_rates')\n"
   ]
  },
  {
   "cell_type": "markdown",
   "id": "be5dfed3-27a8-4fe4-b6fd-94dfca93a6ac",
   "metadata": {},
   "source": [
    "# Data Preprocessing Pipeline"
   ]
  },
  {
   "cell_type": "code",
   "execution_count": 6,
   "id": "77c89ae8-7221-421d-b895-2aca4225402e",
   "metadata": {},
   "outputs": [],
   "source": [
    "## Filling missing values"
   ]
  },
  {
   "cell_type": "code",
   "execution_count": 7,
   "id": "d8378df2-bccb-45a0-a641-3500768400c2",
   "metadata": {},
   "outputs": [],
   "source": [
    "customers_prem = fill_missing_values(customers_prem, {'gender': 'unknown', 'location': 'unknown'})"
   ]
  },
  {
   "cell_type": "code",
   "execution_count": 8,
   "id": "82e06999-2ed2-4756-bf15-30d9d8aca390",
   "metadata": {},
   "outputs": [],
   "source": [
    "## Handle Abnormal values"
   ]
  },
  {
   "cell_type": "code",
   "execution_count": 9,
   "id": "fec44b29-f61a-439d-974e-07fac76c8a18",
   "metadata": {},
   "outputs": [],
   "source": [
    "products_prem = handle_abnormal_values(products_prem, {\n",
    "        'price': {'type': 'minrange_include', 'range': (0, np.inf)},\n",
    "        'stock_available': {'type': 'range_exclude', 'range': (0, np.inf)}\n",
    "    })"
   ]
  },
  {
   "cell_type": "code",
   "execution_count": 10,
   "id": "e6836219-5373-4b08-aaaa-da24b5a8f8a9",
   "metadata": {},
   "outputs": [],
   "source": [
    "transactions_prem = handle_abnormal_values(transactions_prem, {\n",
    "        'quantity': {'type': 'range_exclude', 'range': (1, np.inf)}\n",
    "    })"
   ]
  },
  {
   "cell_type": "code",
   "execution_count": 11,
   "id": "3a8b0bb1-c8e8-4878-8e39-29b33dd68a46",
   "metadata": {},
   "outputs": [],
   "source": [
    "sales_data_prem = handle_abnormal_values(sales_data_prem, {\n",
    "        'price': {'type': 'minrange_include', 'range': (0, np.inf)},\n",
    "        'quantity': {'type': 'range_exclude', 'range': (0, np.inf)}\n",
    "    })"
   ]
  },
  {
   "cell_type": "code",
   "execution_count": 12,
   "id": "d468fa53-b4d3-425b-802d-5c18c3810c27",
   "metadata": {},
   "outputs": [],
   "source": [
    "### Recalculating total_amount in transactions using price from products.\n",
    "### cross checked the product prices within transaction data but values vary for same product.\n",
    "### imputing for missing values of total_amount in transactions from product data will be in efficient.\n",
    "### hence recalculating whole column."
   ]
  },
  {
   "cell_type": "code",
   "execution_count": 13,
   "id": "df756943-309d-459a-85a4-4e7127e524f1",
   "metadata": {},
   "outputs": [],
   "source": [
    "transactions_prem = transactions_prem.merge(products_prem[['product_id','price']],how='left',on='product_id')"
   ]
  },
  {
   "cell_type": "code",
   "execution_count": 14,
   "id": "bcbacd78-aa0e-4af3-8851-bccecd61b602",
   "metadata": {},
   "outputs": [],
   "source": [
    "transactions_prem['total_amount'] = transactions_prem['price']*transactions_prem['quantity']"
   ]
  },
  {
   "cell_type": "code",
   "execution_count": 15,
   "id": "3348ba30-0646-42e5-84e9-8a7e0087ccaf",
   "metadata": {},
   "outputs": [],
   "source": [
    "transactions_prem.drop(['price'],axis=1,inplace=True)"
   ]
  },
  {
   "cell_type": "code",
   "execution_count": 16,
   "id": "3ba8a5f6-5d80-403f-b85b-e048db00095e",
   "metadata": {},
   "outputs": [],
   "source": [
    "## Duplicates Check"
   ]
  },
  {
   "cell_type": "code",
   "execution_count": 17,
   "id": "18177f0c-fee1-4fe4-9d69-2b195541b13d",
   "metadata": {},
   "outputs": [],
   "source": [
    "exchange_rates_prem = handle_duplicates(exchange_rates_prem)"
   ]
  },
  {
   "cell_type": "markdown",
   "id": "c50da27e-c56d-44a7-94d2-0ef2724d88d7",
   "metadata": {},
   "source": [
    "## Inserting data in new Database - This is prod database which is referred for api's"
   ]
  },
  {
   "cell_type": "code",
   "execution_count": 19,
   "id": "6892243d-bad7-4dfb-8789-16baa1532a82",
   "metadata": {},
   "outputs": [],
   "source": [
    "# Database credentials\n",
    "db_credentials_create = {\n",
    "    'host': 'rds-endpoint',\n",
    "    'port': 5432,\n",
    "    'database': 'postgres',\n",
    "    'user': 'postgres',\n",
    "    'password': '******'\n",
    "}\n"
   ]
  },
  {
   "cell_type": "code",
   "execution_count": 20,
   "id": "f0e5b1aa-920e-430d-9d7c-deeb37d85a8d",
   "metadata": {},
   "outputs": [
    {
     "name": "stdout",
     "output_type": "stream",
     "text": [
      "Database engine created successfully\n"
     ]
    }
   ],
   "source": [
    "# Initialize DataIngestion class\n",
    "db_ing = DataIngestion(db_credentials_create)"
   ]
  },
  {
   "cell_type": "code",
   "execution_count": 21,
   "id": "47952c55-312f-4be3-b265-6da90605e4fb",
   "metadata": {},
   "outputs": [
    {
     "name": "stdout",
     "output_type": "stream",
     "text": [
      "Database 'xtage_cld' created successfully.\n"
     ]
    }
   ],
   "source": [
    "db_ing.create_database(\"xtage_cld\")  # to store raw files"
   ]
  },
  {
   "cell_type": "code",
   "execution_count": null,
   "id": "97aae325-47b6-4bd3-a077-690a8639cece",
   "metadata": {},
   "outputs": [],
   "source": []
  },
  {
   "cell_type": "markdown",
   "id": "8b8d8c9a-9b88-4454-b151-04a3a817bb2f",
   "metadata": {},
   "source": [
    "## Storing processed data into tables inside xtage_cld"
   ]
  },
  {
   "cell_type": "code",
   "execution_count": 22,
   "id": "a98cfbe7-d255-46ec-b9b6-3a68f93c2bfe",
   "metadata": {},
   "outputs": [],
   "source": [
    "create_customers_cld_table_sql = \"\"\"\n",
    "CREATE TABLE IF NOT EXISTS customers (\n",
    "    customer_id INT PRIMARY KEY,\n",
    "    customer_name VARCHAR(255) NOT NULL,\n",
    "    age INT,\n",
    "    gender VARCHAR(50),\n",
    "    location VARCHAR(255),\n",
    "    date_joined DATE\n",
    ");\n",
    "\"\"\"\n",
    "\n",
    "create_products_cld_table_sql = \"\"\"\n",
    "CREATE TABLE IF NOT EXISTS products (\n",
    "    product_id INT PRIMARY KEY,\n",
    "    product_name VARCHAR(255) NOT NULL,\n",
    "    category VARCHAR(255) NOT NULL,\n",
    "    price FLOAT,\n",
    "    stock_available INT\n",
    ");\n",
    "\"\"\"\n",
    "\n",
    "create_transactions_cld_table_sql = \"\"\"\n",
    "CREATE TABLE IF NOT EXISTS transactions (\n",
    "    transaction_id INT PRIMARY KEY,\n",
    "    customer_id INT NOT NULL,\n",
    "    product_id INT NOT NULL,\n",
    "    quantity INT,\n",
    "    transaction_date DATE,\n",
    "    total_amount FLOAT\n",
    ");\n",
    "\"\"\"\n",
    "\n",
    "create_sales_cld_table_sql = \"\"\"\n",
    "CREATE TABLE IF NOT EXISTS sales_data (\n",
    "    transaction_id INT PRIMARY KEY,\n",
    "    product_id INT NOT NULL,\n",
    "    quantity INT,\n",
    "    price FLOAT,\n",
    "    transaction_date DATE\n",
    ");\n",
    "\"\"\"\n",
    "    \n",
    "create_exchng_cld_table_sql = \"\"\"\n",
    "CREATE TABLE IF NOT EXISTS exchange_rates (\n",
    "    currency_code VARCHAR(3) NOT NULL,\n",
    "    exchange_rate FLOAT,\n",
    "    date DATE\n",
    ");\n",
    "\"\"\""
   ]
  },
  {
   "cell_type": "code",
   "execution_count": 23,
   "id": "e5462a97-4ab3-4a21-b815-58614232c687",
   "metadata": {},
   "outputs": [
    {
     "name": "stdout",
     "output_type": "stream",
     "text": [
      "Database engine created successfully\n"
     ]
    }
   ],
   "source": [
    "# Database credentials\n",
    "db_credentials = {\n",
    "    'host': 'rds-endpoint',\n",
    "    'port': 5432,\n",
    "    'database': 'xtage_cld',\n",
    "    'user': 'postgres',\n",
    "    'password': '******'\n",
    "}\n",
    "\n",
    "# Initialize DataIngestion class\n",
    "xtp2_con = DataIngestion(db_credentials)"
   ]
  },
  {
   "cell_type": "code",
   "execution_count": 24,
   "id": "d90c13f8-4b4c-49f6-906a-18ee1bdb1a8d",
   "metadata": {},
   "outputs": [
    {
     "name": "stdout",
     "output_type": "stream",
     "text": [
      "Query executed successfully.\n",
      "Query executed successfully.\n",
      "Query executed successfully.\n",
      "Query executed successfully.\n",
      "Query executed successfully.\n"
     ]
    }
   ],
   "source": [
    "# Create tables\n",
    "xtp2_con.execute_query(create_sales_cld_table_sql)\n",
    "xtp2_con.execute_query(create_exchng_cld_table_sql)\n",
    "xtp2_con.execute_query(create_customers_cld_table_sql)\n",
    "xtp2_con.execute_query(create_products_cld_table_sql)\n",
    "xtp2_con.execute_query(create_transactions_cld_table_sql)"
   ]
  },
  {
   "cell_type": "code",
   "execution_count": 25,
   "id": "8cfc618a-d56d-4bfa-ba36-0369677d7af2",
   "metadata": {},
   "outputs": [
    {
     "name": "stdout",
     "output_type": "stream",
     "text": [
      "Data from DataFrame inserted into customers successfully.\n",
      "Data from DataFrame inserted into sales_data successfully.\n",
      "Data from DataFrame inserted into exchange_rates successfully.\n",
      "Data from DataFrame inserted into products successfully.\n",
      "Data from DataFrame inserted into transactions successfully.\n"
     ]
    }
   ],
   "source": [
    "xtp2_con.insert_data_from_df(df=customers_prem,table_name='customers')\n",
    "xtp2_con.insert_data_from_df(df=sales_data_prem,table_name='sales_data')\n",
    "xtp2_con.insert_data_from_df(df=exchange_rates_prem,table_name='exchange_rates')\n",
    "xtp2_con.insert_data_from_df(df=products_prem,table_name='products')\n",
    "xtp2_con.insert_data_from_df(df=transactions_prem,table_name='transactions')"
   ]
  },
  {
   "cell_type": "code",
   "execution_count": null,
   "id": "ed55aefd-5b38-49a7-956b-d766cf6569b7",
   "metadata": {},
   "outputs": [],
   "source": []
  },
  {
   "cell_type": "code",
   "execution_count": null,
   "id": "73f30181-f662-40bb-92bb-c221f5ac1854",
   "metadata": {},
   "outputs": [],
   "source": []
  }
 ],
 "metadata": {
  "kernelspec": {
   "display_name": "Python 3 (ipykernel)",
   "language": "python",
   "name": "python3"
  },
  "language_info": {
   "codemirror_mode": {
    "name": "ipython",
    "version": 3
   },
   "file_extension": ".py",
   "mimetype": "text/x-python",
   "name": "python",
   "nbconvert_exporter": "python",
   "pygments_lexer": "ipython3",
   "version": "3.11.5"
  },
  "toc": {
   "base_numbering": 1,
   "nav_menu": {},
   "number_sections": true,
   "sideBar": true,
   "skip_h1_title": false,
   "title_cell": "Table of Contents",
   "title_sidebar": "Contents",
   "toc_cell": false,
   "toc_position": {},
   "toc_section_display": true,
   "toc_window_display": false
  }
 },
 "nbformat": 4,
 "nbformat_minor": 5
}
